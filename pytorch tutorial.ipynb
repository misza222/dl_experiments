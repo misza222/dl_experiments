{
 "cells": [
  {
   "cell_type": "markdown",
   "metadata": {},
   "source": [
    "This blog post is a rewrite of [post by Jeremy Howard](https://pytorch.org/tutorials/beginner/nn_tutorial.html) - a bottom up approach to learn pytorch basics - highly recommended read."
   ]
  },
  {
   "cell_type": "code",
   "execution_count": 1,
   "metadata": {},
   "outputs": [],
   "source": [
    "from pathlib import Path\n",
    "import requests\n",
    "\n",
    "DATA_PATH = Path(\"data\")\n",
    "PATH = DATA_PATH / \"mnist\"\n",
    "\n",
    "PATH.mkdir(parents=True, exist_ok=True)\n",
    "\n",
    "URL = \"http://deeplearning.net/data/mnist/\"\n",
    "FILENAME = \"mnist.pkl.gz\"\n",
    "\n",
    "if not (PATH / FILENAME).exists():\n",
    "        content = requests.get(URL + FILENAME).content\n",
    "        (PATH / FILENAME).open(\"wb\").write(content)\n",
    "        \n",
    "import pickle\n",
    "import gzip\n",
    "\n",
    "with gzip.open((PATH / FILENAME).as_posix(), \"rb\") as f:\n",
    "        ((x_train, y_train), (x_valid, y_valid), _) = pickle.load(f, encoding=\"latin-1\")"
   ]
  },
  {
   "cell_type": "code",
   "execution_count": 4,
   "metadata": {},
   "outputs": [
    {
     "name": "stdout",
     "output_type": "stream",
     "text": [
      "(50000, 784)\n"
     ]
    },
    {
     "data": {
      "image/png": "[encoded data removed]",
      "text/plain": [
       "<Figure size 432x288 with 1 Axes>"
      ]
     },
     "metadata": {
      "needs_background": "light"
     },
     "output_type": "display_data"
    }
   ],
   "source": [
    "from matplotlib import pyplot\n",
    "import numpy as np\n",
    "\n",
    "pyplot.imshow(x_train[0].reshape((28, 28)), cmap=\"gray\")\n",
    "print(x_train.shape)"
   ]
  },
  {
   "cell_type": "code",
   "execution_count": 5,
   "metadata": {
    "scrolled": true
   },
   "outputs": [
    {
     "name": "stdout",
     "output_type": "stream",
     "text": [
      "tensor([[0., 0., 0.,  ..., 0., 0., 0.],\n",
      "        [0., 0., 0.,  ..., 0., 0., 0.],\n",
      "        [0., 0., 0.,  ..., 0., 0., 0.],\n",
      "        ...,\n",
      "        [0., 0., 0.,  ..., 0., 0., 0.],\n",
      "        [0., 0., 0.,  ..., 0., 0., 0.],\n",
      "        [0., 0., 0.,  ..., 0., 0., 0.]]) tensor([5, 0, 4,  ..., 8, 4, 8])\n",
      "torch.Size([50000, 784])\n",
      "tensor(0) tensor(9)\n"
     ]
    }
   ],
   "source": [
    "import torch\n",
    "\n",
    "x_train, y_train, x_valid, y_valid = map(\n",
    "    torch.tensor, (x_train, y_train, x_valid, y_valid)\n",
    ")\n",
    "n, c = x_train.shape\n",
    "x_train, x_train.shape, y_train.min(), y_train.max()\n",
    "print(x_train, y_train)\n",
    "print(x_train.shape)\n",
    "print(y_train.min(), y_train.max())"
   ]
  },
  {
   "cell_type": "markdown",
   "metadata": {},
   "source": [
    "#### nn from scratch (no torch.nn)"
   ]
  },
  {
   "cell_type": "code",
   "execution_count": 210,
   "metadata": {},
   "outputs": [],
   "source": [
    "import math\n",
    "\n",
    "weights = torch.randn(784, 10) / math.sqrt(784) # Xavier initialisation\n",
    "\n",
    "weights.requires_grad_()\n",
    "\n",
    "bias = torch.zeros(10, requires_grad=True)"
   ]
  },
  {
   "cell_type": "markdown",
   "metadata": {},
   "source": [
    "##### Learning\n",
    "logsoftmax is a normalized expotential function"
   ]
  },
  {
   "cell_type": "code",
   "execution_count": 213,
   "metadata": {},
   "outputs": [],
   "source": [
    "def log_softmax(x):\n",
    "    return x - x.exp().sum(-1).log().unsqueeze(-1)\n",
    "\n",
    "def model(xb):\n",
    "    return log_softmax(xb @ weights + bias)"
   ]
  },
  {
   "cell_type": "markdown",
   "metadata": {},
   "source": [
    "##### Learning\n",
    "in numpy equivalent of torch.tensor::unsqueeze is np.expand_dims\n",
    "\n",
    "```np.expand_dims(np.random.randn(15).reshape((5,-1)), -1)```"
   ]
  },
  {
   "cell_type": "code",
   "execution_count": 214,
   "metadata": {},
   "outputs": [],
   "source": [
    "def nll(input, target):\n",
    "    return -input[range(target.shape[0]), target].mean()\n",
    "\n",
    "loss_func = nll"
   ]
  },
  {
   "cell_type": "code",
   "execution_count": 215,
   "metadata": {},
   "outputs": [],
   "source": [
    "def accuracy(out, yb):\n",
    "    return (torch.argmax(out, dim=-1) == yb).float().mean()"
   ]
  },
  {
   "cell_type": "markdown",
   "metadata": {},
   "source": [
    "training loop:\n",
    "  - compute batch idexes\n",
    "  - run batch through model\n",
    "  - compute loss\n",
    "  - loss.backward()\n",
    "  - update gradients"
   ]
  },
  {
   "cell_type": "code",
   "execution_count": 216,
   "metadata": {},
   "outputs": [],
   "source": [
    "bs = 64\n",
    "n = x_train.shape[0]\n",
    "lr = 0.5\n",
    "epochs = 2"
   ]
  },
  {
   "cell_type": "code",
   "execution_count": 217,
   "metadata": {},
   "outputs": [
    {
     "name": "stdout",
     "output_type": "stream",
     "text": [
      "i:0 epoch:0 acc:0.125 loss:2.3893065452575684\n",
      "i:200 epoch:0 acc:0.890625 loss:0.30535614490509033\n",
      "i:400 epoch:0 acc:0.890625 loss:0.23910431563854218\n",
      "i:600 epoch:0 acc:0.890625 loss:0.26232966780662537\n",
      "i:0 epoch:1 acc:0.921875 loss:0.2764670252799988\n",
      "i:200 epoch:1 acc:0.90625 loss:0.20001156628131866\n",
      "i:400 epoch:1 acc:0.921875 loss:0.21263916790485382\n",
      "i:600 epoch:1 acc:0.90625 loss:0.2258358597755432\n",
      "Final accuracy: 1.0, loss: 0.08194544911384583\n"
     ]
    }
   ],
   "source": [
    "# from IPython.core.debugger import set_trace\n",
    "\n",
    "weights = torch.randn((784, 10)) / math.sqrt(784)\n",
    "weights.requires_grad_()\n",
    "\n",
    "bias = torch.zeros(10, requires_grad=True)\n",
    "\n",
    "xb, yb = None, None\n",
    "\n",
    "for epoch in range(epochs):\n",
    "    for i in range((n-1) // bs + 1):\n",
    "#         set_trace()\n",
    "        start_i = bs * i\n",
    "        end_i = start_i + bs\n",
    "\n",
    "        xb = x_train[start_i: end_i]\n",
    "        yb = y_train[start_i: end_i]\n",
    "\n",
    "        preds = model(xb)\n",
    "        loss = loss_func(preds, yb)\n",
    "\n",
    "        loss.backward()\n",
    "\n",
    "        with torch.no_grad():\n",
    "            weights -= weights.grad * lr\n",
    "            bias -= bias.grad * lr\n",
    "            weights.grad.zero_()\n",
    "            bias.grad.zero_()\n",
    "        if i % 200 == 0:\n",
    "            print(f\"i:{i} epoch:{epoch} acc:{accuracy(preds,yb)} loss:{loss_func(preds, yb)}\")\n",
    "\n",
    "print(f\"Final accuracy: {accuracy(model(xb),yb)}, loss: {loss_func(model(xb), yb)}\")\n"
   ]
  },
  {
   "cell_type": "markdown",
   "metadata": {},
   "source": [
    "### Using nn.functional"
   ]
  },
  {
   "cell_type": "code",
   "execution_count": 218,
   "metadata": {},
   "outputs": [],
   "source": [
    "import torch.nn.functional as F"
   ]
  },
  {
   "cell_type": "code",
   "execution_count": 219,
   "metadata": {},
   "outputs": [],
   "source": [
    "loss_func = F.cross_entropy\n",
    "\n",
    "def model(xb):\n",
    "    return xb @ weights + bias"
   ]
  },
  {
   "cell_type": "code",
   "execution_count": 220,
   "metadata": {},
   "outputs": [
    {
     "data": {
      "text/plain": [
       "tensor(1.)"
      ]
     },
     "execution_count": 220,
     "metadata": {},
     "output_type": "execute_result"
    }
   ],
   "source": [
    "accuracy(model(xb), yb)"
   ]
  },
  {
   "cell_type": "code",
   "execution_count": 221,
   "metadata": {},
   "outputs": [
    {
     "data": {
      "text/plain": [
       "tensor(0.0819, grad_fn=<NllLossBackward>)"
      ]
     },
     "execution_count": 221,
     "metadata": {},
     "output_type": "execute_result"
    }
   ],
   "source": [
    "loss_func(model(xb), yb)"
   ]
  },
  {
   "cell_type": "markdown",
   "metadata": {},
   "source": [
    "### Using nn.Module"
   ]
  },
  {
   "cell_type": "code",
   "execution_count": 222,
   "metadata": {},
   "outputs": [],
   "source": [
    "from torch import nn"
   ]
  },
  {
   "cell_type": "code",
   "execution_count": 223,
   "metadata": {},
   "outputs": [],
   "source": [
    "class Mnist_Logistic(nn.Module):\n",
    "    def __init__(self):\n",
    "        super().__init__()\n",
    "        self.weights = nn.Parameter(torch.randn(784,10)/math.sqrt(784))\n",
    "        self.bias = nn.Parameter(torch.zeros(10))\n",
    "        \n",
    "    def forward(self, xb):\n",
    "        return xb @ self.weights + self.bias"
   ]
  },
  {
   "cell_type": "code",
   "execution_count": 224,
   "metadata": {},
   "outputs": [],
   "source": [
    "model = Mnist_Logistic()"
   ]
  },
  {
   "cell_type": "code",
   "execution_count": 225,
   "metadata": {},
   "outputs": [
    {
     "name": "stdout",
     "output_type": "stream",
     "text": [
      "tensor(2.3747, grad_fn=<NllLossBackward>)\n"
     ]
    }
   ],
   "source": [
    "print(loss_func(model(xb), yb))"
   ]
  },
  {
   "cell_type": "code",
   "execution_count": 226,
   "metadata": {},
   "outputs": [
    {
     "name": "stdout",
     "output_type": "stream",
     "text": [
      "i:0 epoch:0 acc:0.046875 loss:2.3504323959350586\n",
      "i:200 epoch:0 acc:0.890625 loss:0.30370551347732544\n",
      "i:400 epoch:0 acc:0.890625 loss:0.23531047999858856\n",
      "i:600 epoch:0 acc:0.890625 loss:0.25988537073135376\n",
      "i:0 epoch:1 acc:0.921875 loss:0.28092852234840393\n",
      "i:200 epoch:1 acc:0.90625 loss:0.1964576691389084\n",
      "i:400 epoch:1 acc:0.9375 loss:0.20972053706645966\n",
      "i:600 epoch:1 acc:0.90625 loss:0.22323745489120483\n",
      "Final accuracy: 1.0, loss: 0.08024808019399643\n"
     ]
    }
   ],
   "source": [
    "# from IPython.core.debugger import set_trace\n",
    "def fit():\n",
    "    xb, yb = None, None\n",
    "\n",
    "    for epoch in range(epochs):\n",
    "        for i in range((n-1) // bs + 1):\n",
    "    #         set_trace()\n",
    "            start_i = bs * i\n",
    "            end_i = start_i + bs\n",
    "\n",
    "            xb = x_train[start_i: end_i]\n",
    "            yb = y_train[start_i: end_i]\n",
    "\n",
    "            preds = model(xb)\n",
    "            loss = loss_func(preds, yb)\n",
    "\n",
    "            loss.backward()\n",
    "\n",
    "            with torch.no_grad():\n",
    "                for p in model.parameters():\n",
    "                    p -= p.grad * lr\n",
    "                model.zero_grad()\n",
    "\n",
    "            if i % 200 == 0:\n",
    "                print(f\"i:{i} epoch:{epoch} acc:{accuracy(preds,yb)} loss:{loss_func(preds, yb)}\")\n",
    "\n",
    "    print(f\"Final accuracy: {accuracy(model(xb),yb)}, loss: {loss_func(model(xb), yb)}\")\n",
    "\n",
    "fit()"
   ]
  },
  {
   "cell_type": "markdown",
   "metadata": {},
   "source": [
    "### Using nn.Linear"
   ]
  },
  {
   "cell_type": "code",
   "execution_count": 227,
   "metadata": {},
   "outputs": [],
   "source": [
    "class Mnist_Logistic(nn.Module):\n",
    "    def __init__(self):\n",
    "        super().__init__()\n",
    "        self.lin = nn.Linear(784, 10)\n",
    "        \n",
    "        \n",
    "    def forward(self, xb):\n",
    "        return self.lin(xb)\n",
    "    \n",
    "model = Mnist_Logistic()"
   ]
  },
  {
   "cell_type": "code",
   "execution_count": 228,
   "metadata": {},
   "outputs": [
    {
     "name": "stdout",
     "output_type": "stream",
     "text": [
      "tensor(2.3454, grad_fn=<NllLossBackward>)\n"
     ]
    }
   ],
   "source": [
    "print(loss_func(model(xb), yb))"
   ]
  },
  {
   "cell_type": "code",
   "execution_count": 229,
   "metadata": {},
   "outputs": [
    {
     "name": "stdout",
     "output_type": "stream",
     "text": [
      "i:0 epoch:0 acc:0.171875 loss:2.358887195587158\n",
      "i:200 epoch:0 acc:0.890625 loss:0.301554799079895\n",
      "i:400 epoch:0 acc:0.890625 loss:0.23850272595882416\n",
      "i:600 epoch:0 acc:0.890625 loss:0.26491525769233704\n",
      "i:0 epoch:1 acc:0.921875 loss:0.28105849027633667\n",
      "i:200 epoch:1 acc:0.90625 loss:0.19805528223514557\n",
      "i:400 epoch:1 acc:0.921875 loss:0.2115239053964615\n",
      "i:600 epoch:1 acc:0.921875 loss:0.2283817082643509\n",
      "Final accuracy: 1.0, loss: 0.08113232254981995\n"
     ]
    }
   ],
   "source": [
    "fit()"
   ]
  },
  {
   "cell_type": "markdown",
   "metadata": {},
   "source": [
    "### Using torch.optim"
   ]
  },
  {
   "cell_type": "code",
   "execution_count": 242,
   "metadata": {},
   "outputs": [],
   "source": [
    "from torch import optim"
   ]
  },
  {
   "cell_type": "code",
   "execution_count": 243,
   "metadata": {},
   "outputs": [],
   "source": [
    "def get_model():\n",
    "    model = Mnist_Logistic()\n",
    "    return model, optim.SGD(model.parameters(), lr=lr)"
   ]
  },
  {
   "cell_type": "code",
   "execution_count": 244,
   "metadata": {},
   "outputs": [],
   "source": []
  },
  {
   "cell_type": "code",
   "execution_count": 247,
   "metadata": {},
   "outputs": [
    {
     "name": "stdout",
     "output_type": "stream",
     "text": [
      "i:0 epoch:0 acc:0.1875 loss:2.317516326904297\n",
      "i:200 epoch:0 acc:0.890625 loss:0.3004288971424103\n",
      "i:400 epoch:0 acc:0.890625 loss:0.23431403934955597\n",
      "i:600 epoch:0 acc:0.890625 loss:0.2628122568130493\n",
      "i:0 epoch:1 acc:0.921875 loss:0.28213852643966675\n",
      "i:200 epoch:1 acc:0.90625 loss:0.19670134782791138\n",
      "i:400 epoch:1 acc:0.9375 loss:0.20885488390922546\n",
      "i:600 epoch:1 acc:0.921875 loss:0.22647500038146973\n",
      "Final accuracy: 1.0, loss: 0.08074620366096497\n"
     ]
    }
   ],
   "source": [
    "def fit2():\n",
    "    xb, yb = None, None\n",
    "    model, opt = get_model()\n",
    "\n",
    "    for epoch in range(epochs):\n",
    "        for i in range((n-1) // bs + 1):\n",
    "    #         set_trace()\n",
    "            start_i = bs * i\n",
    "            end_i = start_i + bs\n",
    "\n",
    "            xb = x_train[start_i: end_i]\n",
    "            yb = y_train[start_i: end_i]\n",
    "\n",
    "            preds = model(xb)\n",
    "            loss = loss_func(preds, yb)\n",
    "\n",
    "            loss.backward()\n",
    "\n",
    "            opt.step()\n",
    "            opt.zero_grad()\n",
    "\n",
    "            if i % 200 == 0:\n",
    "                print(f\"i:{i} epoch:{epoch} acc:{accuracy(preds,yb)} loss:{loss_func(preds, yb)}\")\n",
    "\n",
    "    print(f\"Final accuracy: {accuracy(model(xb),yb)}, loss: {loss_func(model(xb), yb)}\")\n",
    "\n",
    "fit2()"
   ]
  },
  {
   "cell_type": "markdown",
   "metadata": {},
   "source": [
    "### Using Dataset"
   ]
  },
  {
   "cell_type": "code",
   "execution_count": 248,
   "metadata": {},
   "outputs": [],
   "source": [
    "from torch.utils.data import TensorDataset"
   ]
  },
  {
   "cell_type": "code",
   "execution_count": 249,
   "metadata": {},
   "outputs": [],
   "source": [
    "train_ds = TensorDataset(x_train, y_train)"
   ]
  },
  {
   "cell_type": "code",
   "execution_count": 251,
   "metadata": {},
   "outputs": [
    {
     "name": "stdout",
     "output_type": "stream",
     "text": [
      "i:0 epoch:0 acc:0.046875 loss:2.309152126312256\n",
      "i:200 epoch:0 acc:0.890625 loss:0.29833224415779114\n",
      "i:400 epoch:0 acc:0.890625 loss:0.2364550679922104\n",
      "i:600 epoch:0 acc:0.890625 loss:0.2569442093372345\n",
      "i:0 epoch:1 acc:0.921875 loss:0.27631545066833496\n",
      "i:200 epoch:1 acc:0.90625 loss:0.19535864889621735\n",
      "i:400 epoch:1 acc:0.921875 loss:0.21112102270126343\n",
      "i:600 epoch:1 acc:0.921875 loss:0.22184890508651733\n",
      "Final accuracy: 1.0, loss: 0.08196580410003662\n"
     ]
    }
   ],
   "source": [
    "def fit3():\n",
    "    xb, yb = None, None\n",
    "    model, opt = get_model()\n",
    "    train_ds = TensorDataset(x_train, y_train)\n",
    "    \n",
    "    for epoch in range(epochs):\n",
    "        for i in range((n-1) // bs + 1):\n",
    "    #         set_trace()\n",
    "            start_i = bs * i\n",
    "            end_i = start_i + bs\n",
    "\n",
    "            xb, yb = train_ds[start_i: end_i]\n",
    "\n",
    "            preds = model(xb)\n",
    "            loss = loss_func(preds, yb)\n",
    "\n",
    "            loss.backward()\n",
    "\n",
    "            opt.step()\n",
    "            opt.zero_grad()\n",
    "\n",
    "            if i % 200 == 0:\n",
    "                print(f\"i:{i} epoch:{epoch} acc:{accuracy(preds,yb)} loss:{loss_func(preds, yb)}\")\n",
    "\n",
    "    print(f\"Final accuracy: {accuracy(model(xb),yb)}, loss: {loss_func(model(xb), yb)}\")\n",
    "\n",
    "fit3()"
   ]
  },
  {
   "cell_type": "markdown",
   "metadata": {},
   "source": [
    "### Using DataLoader"
   ]
  },
  {
   "cell_type": "code",
   "execution_count": 252,
   "metadata": {},
   "outputs": [],
   "source": [
    "from torch.utils.data import DataLoader"
   ]
  },
  {
   "cell_type": "code",
   "execution_count": 254,
   "metadata": {},
   "outputs": [],
   "source": [
    "train_ds = TensorDataset(x_train, y_train)\n",
    "train_dl = DataLoader(train_ds, batch_size=bs)"
   ]
  },
  {
   "cell_type": "code",
   "execution_count": 260,
   "metadata": {},
   "outputs": [
    {
     "name": "stdout",
     "output_type": "stream",
     "text": [
      "i:0 epoch:0 acc:0.03125 loss:2.3398704528808594\n",
      "i:200 epoch:0 acc:0.890625 loss:0.30474215745925903\n",
      "i:400 epoch:0 acc:0.90625 loss:0.23508991301059723\n",
      "i:600 epoch:0 acc:0.890625 loss:0.2617945671081543\n",
      "i:0 epoch:1 acc:0.921875 loss:0.2830114960670471\n",
      "i:200 epoch:1 acc:0.90625 loss:0.19857309758663177\n",
      "i:400 epoch:1 acc:0.9375 loss:0.20998193323612213\n",
      "i:600 epoch:1 acc:0.921875 loss:0.22563597559928894\n",
      "Final accuracy: 1.0, loss: 0.0826682597398758\n"
     ]
    }
   ],
   "source": [
    "def fit4():\n",
    "    xb, yb = None, None\n",
    "    model, opt = get_model()\n",
    "    train_ds = TensorDataset(x_train, y_train)\n",
    "    train_dl = DataLoader(train_ds, batch_size=bs)\n",
    "    \n",
    "    for epoch in range(epochs):\n",
    "        for i, (xb, yb) in enumerate(train_dl):\n",
    "            preds = model(xb)\n",
    "            loss = loss_func(preds, yb)\n",
    "\n",
    "            loss.backward()\n",
    "\n",
    "            opt.step()\n",
    "            opt.zero_grad()\n",
    "\n",
    "            if i % 200 == 0:\n",
    "                print(f\"i:{i} epoch:{epoch} acc:{accuracy(preds,yb)} loss:{loss_func(preds, yb)}\")\n",
    "\n",
    "    print(f\"Final accuracy: {accuracy(model(xb),yb)}, loss: {loss_func(model(xb), yb)}\")\n",
    "\n",
    "fit4()"
   ]
  },
  {
   "cell_type": "markdown",
   "metadata": {},
   "source": [
    "### Using a validation set"
   ]
  },
  {
   "cell_type": "code",
   "execution_count": null,
   "metadata": {},
   "outputs": [],
   "source": []
  },
  {
   "cell_type": "code",
   "execution_count": 273,
   "metadata": {},
   "outputs": [
    {
     "name": "stdout",
     "output_type": "stream",
     "text": [
      "Epoch valid accuracy: 0.9125199317932129, loss: 0.3104151487350464\n",
      "Epoch valid accuracy: 0.9178941249847412, loss: 0.2910129129886627\n"
     ]
    }
   ],
   "source": [
    "def fit5():\n",
    "    xb, yb = None, None\n",
    "    model, opt = get_model()\n",
    "    train_ds = TensorDataset(x_train, y_train)\n",
    "    train_dl = DataLoader(train_ds, batch_size=bs)\n",
    "    valid_ds = TensorDataset(x_valid, y_valid)\n",
    "    valid_dl = DataLoader(valid_ds, batch_size=bs)\n",
    "    \n",
    "    for epoch in range(epochs):\n",
    "        for i, (xb, yb) in enumerate(train_dl):\n",
    "            preds = model(xb)\n",
    "            loss = loss_func(preds, yb)\n",
    "\n",
    "            loss.backward()\n",
    "\n",
    "            opt.step()\n",
    "            opt.zero_grad()\n",
    "        \n",
    "        with torch.no_grad():\n",
    "            valid_accuracy = torch.mean(torch.tensor(list(accuracy(model(xb), yb) for xb, yb in valid_dl)))\n",
    "            valid_loss = torch.mean(torch.tensor(list(loss_func(model(xb), yb) for xb, yb in valid_dl)))\n",
    "\n",
    "            print(f\"Epoch valid accuracy: {valid_accuracy}, loss: {valid_loss}\")\n",
    "\n",
    "fit5()"
   ]
  },
  {
   "cell_type": "code",
   "execution_count": null,
   "metadata": {},
   "outputs": [],
   "source": []
  }
 ],
 "metadata": {
  "kernelspec": {
   "display_name": "Python 3",
   "language": "python",
   "name": "python3"
  },
  "language_info": {
   "codemirror_mode": {
    "name": "ipython",
    "version": 3
   },
   "file_extension": ".py",
   "mimetype": "text/x-python",
   "name": "python",
   "nbconvert_exporter": "python",
   "pygments_lexer": "ipython3",
   "version": "3.7.6"
  }
 },
 "nbformat": 4,
 "nbformat_minor": 4
}
